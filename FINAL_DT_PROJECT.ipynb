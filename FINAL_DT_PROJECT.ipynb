{
  "nbformat": 4,
  "nbformat_minor": 0,
  "metadata": {
    "colab": {
      "provenance": []
    },
    "kernelspec": {
      "name": "python3",
      "display_name": "Python 3"
    },
    "language_info": {
      "name": "python"
    }
  },
  "cells": [
    {
      "cell_type": "code",
      "source": [
        "# importing the required library\n",
        "from imageai.Detection import ObjectDetection\n",
        "\n",
        "# instantiating the class\n",
        "detector = ObjectDetection()\n",
        "\n",
        "# defining the paths\n",
        "path_model = \"/content/tiny-yolov3.pt\"\n",
        "\n",
        "# using the setModelTypeAsYOLOv3() function\n",
        "detector.setModelTypeAsTinyYOLOv3()\n",
        "# setting the path of the Model\n",
        "detector.setModelPath(path_model)\n",
        "# loading the model\n",
        "detector.loadModel()\n",
        "# calling the detectObjectsFromImage() function\n",
        "detections = detector.detectObjectsFromImage(input_image=\"/content/high-park-1-6505124-1691080951454.jpg\",\n",
        "                                             output_image_path=\"/content/output.jpg\",\n",
        "                                             minimum_percentage_probability=30)\n",
        "# iterating through the items found in the image\n",
        "for eachItem in detections: #[{\"name\":\"person\",\"percentage_probability\":100.0},{..},{..}]\n",
        "    print(eachItem[\"name\"] , \" : \", eachItem[\"percentage_probability\"])"
      ],
      "metadata": {
        "id": "PVrlVkkjg1W5",
        "colab": {
          "base_uri": "https://localhost:8080/"
        },
        "outputId": "4b5af916-9b0b-41ff-e922-c5ff9110482d"
      },
      "execution_count": 2,
      "outputs": [
        {
          "output_type": "stream",
          "name": "stdout",
          "text": [
            "person  :  98.42\n",
            "person  :  99.73\n",
            "person  :  99.68\n",
            "person  :  99.48\n",
            "person  :  97.28\n",
            "person  :  98.91\n",
            "car  :  99.55\n",
            "car  :  99.05\n",
            "car  :  92.38\n",
            "car  :  98.26\n",
            "car  :  89.07\n",
            "car  :  90.44\n"
          ]
        }
      ]
    },
    {
      "cell_type": "code",
      "source": [
        "!pip install cython pillow>=7.0.0 numpy>=1.18.1 opencv-python>=4.1.2 torch>=1.9.0 --extra-index-url https://download.pytorch.org/whl/cpu torchvision>=0.10.0 --extra-index-url https://download.pytorch.org/whl/cpu pytest==7.1.3 tqdm==4.64.1 scipy>=1.7.3 matplotlib>=3.4.3 mock==4.0.3\n",
        "!pip install imageai --upgrade"
      ],
      "metadata": {
        "colab": {
          "base_uri": "https://localhost:8080/"
        },
        "id": "2qeJbVpTXJdI",
        "outputId": "cfaa5371-6106-409d-9bae-c5fb97da4398"
      },
      "execution_count": 1,
      "outputs": [
        {
          "output_type": "stream",
          "name": "stdout",
          "text": [
            "Collecting imageai\n",
            "  Downloading imageai-3.0.3-py3-none-any.whl (69 kB)\n",
            "\u001b[?25l     \u001b[90m━━━━━━━━━━━━━━━━━━━━━━━━━━━━━━━━━━━━━━━━\u001b[0m \u001b[32m0.0/69.8 kB\u001b[0m \u001b[31m?\u001b[0m eta \u001b[36m-:--:--\u001b[0m\r\u001b[2K     \u001b[91m━━━━━━━━━━━━━━━━━━━━━━━━━━━━━━━━━━━\u001b[0m\u001b[90m╺\u001b[0m\u001b[90m━━━━\u001b[0m \u001b[32m61.4/69.8 kB\u001b[0m \u001b[31m2.0 MB/s\u001b[0m eta \u001b[36m0:00:01\u001b[0m\r\u001b[2K     \u001b[90m━━━━━━━━━━━━━━━━━━━━━━━━━━━━━━━━━━━━━━━━\u001b[0m \u001b[32m69.8/69.8 kB\u001b[0m \u001b[31m1.7 MB/s\u001b[0m eta \u001b[36m0:00:00\u001b[0m\n",
            "\u001b[?25hInstalling collected packages: imageai\n",
            "Successfully installed imageai-3.0.3\n"
          ]
        }
      ]
    },
    {
      "cell_type": "code",
      "source": [],
      "metadata": {
        "id": "7KoQtNmSmmRa"
      },
      "execution_count": null,
      "outputs": []
    }
  ]
}